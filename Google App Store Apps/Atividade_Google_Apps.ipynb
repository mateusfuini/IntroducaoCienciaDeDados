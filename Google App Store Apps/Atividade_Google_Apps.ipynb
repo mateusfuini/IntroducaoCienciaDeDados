{
 "cells": [
  {
   "cell_type": "markdown",
   "source": [
    "**IFSP Campinas** <br/>\n",
    "**D1INT: Introdução à Ciênciad de Dados (2022.1)** <br/>\n",
    "\n",
    "\n",
    "Atividade prática da disciplina <br/>\n",
    "\n",
    "\n",
    "<a rel=\"license\" href=\"http://creativecommons.org/licenses/by-nc-sa/4.0/\"><img alt=\"Creative Commons License\" style=\"border-width:0\" src=\"https://i.creativecommons.org/l/by-nc-sa/4.0/88x31.png\" /></a><br />This work is licensed under a <a rel=\"license\" href=\"http://creativecommons.org/licenses/by-nc-sa/4.0/\">Creative Commons Attribution-NonCommercial-ShareAlike"
   ],
   "metadata": {
    "collapsed": false
   }
  },
  {
   "cell_type": "markdown",
   "source": [
    "## Pipeline de Ciência de Dados\n"
   ],
   "metadata": {
    "collapsed": false
   }
  },
  {
   "cell_type": "markdown",
   "source": [
    "## Análise Exploratória de Dados\n",
    "\n",
    "Resposta da questões abaixo"
   ],
   "metadata": {
    "collapsed": false
   }
  },
  {
   "cell_type": "markdown",
   "source": [
    "## Importações"
   ],
   "metadata": {
    "collapsed": false
   }
  },
  {
   "cell_type": "code",
   "execution_count": 1,
   "outputs": [],
   "source": [
    "# pacotes usados neste notebook\n",
    "import pandas as pd\n",
    "from IPython.display import display\n",
    "import re"
   ],
   "metadata": {
    "collapsed": false,
    "pycharm": {
     "name": "#%%\n"
    }
   }
  },
  {
   "cell_type": "markdown",
   "source": [
    "## 1. Dataset"
   ],
   "metadata": {
    "collapsed": false
   }
  },
  {
   "cell_type": "markdown",
   "source": [
    "**Dataset**: Google Play Store Apps: https://www.kaggle.com/lava18/google-play-store-apps <br/>\n",
    "\n",
    "Este dataset contém dados sobre aplicativos da Google Play Store. <br/>\n",
    "Cada *observação (registro/linha)* consiste de informações de um app, tais como categoria, avaliação, tamanho, entre outros."
   ],
   "metadata": {
    "collapsed": false
   }
  },
  {
   "cell_type": "markdown",
   "source": [
    "### 1.1 Importando o Dataset"
   ],
   "metadata": {
    "collapsed": false
   }
  },
  {
   "cell_type": "code",
   "execution_count": 2,
   "outputs": [],
   "source": [
    "df = pd.read_csv(\"./dataset/googleplaystore_preprocessado.csv\")"
   ],
   "metadata": {
    "collapsed": false,
    "pycharm": {
     "name": "#%%\n"
    }
   }
  },
  {
   "cell_type": "markdown",
   "source": [
    "### CATEGORY vs REVIEWS"
   ],
   "metadata": {
    "collapsed": false
   }
  },
  {
   "cell_type": "markdown",
   "source": [
    "**Quais categorias recebem mais comentários?**"
   ],
   "metadata": {
    "collapsed": false
   }
  },
  {
   "cell_type": "code",
   "execution_count": 3,
   "outputs": [
    {
     "data": {
      "text/plain": "               Category      Reviews\n14                 GAME  622298709.0\n6         COMMUNICATION  285811368.0\n29                TOOLS  229356578.0\n27               SOCIAL  227927801.0\n11               FAMILY  143825488.0\n24          PHOTOGRAPHY  105351270.0\n31        VIDEO_PLAYERS   67484568.0\n25         PRODUCTIVITY   55590649.0\n23      PERSONALIZATION   53543080.0\n26             SHOPPING   44551730.0\n28               SPORTS   35348813.0\n9         ENTERTAINMENT   34762650.0\n30     TRAVEL_AND_LOCAL   26819741.0\n21   NEWS_AND_MAGAZINES   23130228.0\n15   HEALTH_AND_FITNESS   21361355.0\n19  MAPS_AND_NAVIGATION   17729148.0\n3   BOOKS_AND_REFERENCE   16721314.0\n8             EDUCATION   13364148.0\n12              FINANCE   12662106.0\n32              WEATHER   12295164.0\n18            LIFESTYLE   11832671.0\n4              BUSINESS    9890245.0\n13       FOOD_AND_DRINK    6325028.0\n7                DATING    3623544.0\n5                COMICS    2342071.0\n16       HOUSE_AND_HOME    1929847.0\n0        ART_AND_DESIGN    1419203.0\n20              MEDICAL    1182971.0\n1     AUTO_AND_VEHICLES    1163666.0\n22            PARENTING     958331.0\n17   LIBRARIES_AND_DEMO     906831.0\n2                BEAUTY     396240.0\n10               EVENTS     161018.0",
      "text/html": "<div>\n<style scoped>\n    .dataframe tbody tr th:only-of-type {\n        vertical-align: middle;\n    }\n\n    .dataframe tbody tr th {\n        vertical-align: top;\n    }\n\n    .dataframe thead th {\n        text-align: right;\n    }\n</style>\n<table border=\"1\" class=\"dataframe\">\n  <thead>\n    <tr style=\"text-align: right;\">\n      <th></th>\n      <th>Category</th>\n      <th>Reviews</th>\n    </tr>\n  </thead>\n  <tbody>\n    <tr>\n      <th>14</th>\n      <td>GAME</td>\n      <td>622298709.0</td>\n    </tr>\n    <tr>\n      <th>6</th>\n      <td>COMMUNICATION</td>\n      <td>285811368.0</td>\n    </tr>\n    <tr>\n      <th>29</th>\n      <td>TOOLS</td>\n      <td>229356578.0</td>\n    </tr>\n    <tr>\n      <th>27</th>\n      <td>SOCIAL</td>\n      <td>227927801.0</td>\n    </tr>\n    <tr>\n      <th>11</th>\n      <td>FAMILY</td>\n      <td>143825488.0</td>\n    </tr>\n    <tr>\n      <th>24</th>\n      <td>PHOTOGRAPHY</td>\n      <td>105351270.0</td>\n    </tr>\n    <tr>\n      <th>31</th>\n      <td>VIDEO_PLAYERS</td>\n      <td>67484568.0</td>\n    </tr>\n    <tr>\n      <th>25</th>\n      <td>PRODUCTIVITY</td>\n      <td>55590649.0</td>\n    </tr>\n    <tr>\n      <th>23</th>\n      <td>PERSONALIZATION</td>\n      <td>53543080.0</td>\n    </tr>\n    <tr>\n      <th>26</th>\n      <td>SHOPPING</td>\n      <td>44551730.0</td>\n    </tr>\n    <tr>\n      <th>28</th>\n      <td>SPORTS</td>\n      <td>35348813.0</td>\n    </tr>\n    <tr>\n      <th>9</th>\n      <td>ENTERTAINMENT</td>\n      <td>34762650.0</td>\n    </tr>\n    <tr>\n      <th>30</th>\n      <td>TRAVEL_AND_LOCAL</td>\n      <td>26819741.0</td>\n    </tr>\n    <tr>\n      <th>21</th>\n      <td>NEWS_AND_MAGAZINES</td>\n      <td>23130228.0</td>\n    </tr>\n    <tr>\n      <th>15</th>\n      <td>HEALTH_AND_FITNESS</td>\n      <td>21361355.0</td>\n    </tr>\n    <tr>\n      <th>19</th>\n      <td>MAPS_AND_NAVIGATION</td>\n      <td>17729148.0</td>\n    </tr>\n    <tr>\n      <th>3</th>\n      <td>BOOKS_AND_REFERENCE</td>\n      <td>16721314.0</td>\n    </tr>\n    <tr>\n      <th>8</th>\n      <td>EDUCATION</td>\n      <td>13364148.0</td>\n    </tr>\n    <tr>\n      <th>12</th>\n      <td>FINANCE</td>\n      <td>12662106.0</td>\n    </tr>\n    <tr>\n      <th>32</th>\n      <td>WEATHER</td>\n      <td>12295164.0</td>\n    </tr>\n    <tr>\n      <th>18</th>\n      <td>LIFESTYLE</td>\n      <td>11832671.0</td>\n    </tr>\n    <tr>\n      <th>4</th>\n      <td>BUSINESS</td>\n      <td>9890245.0</td>\n    </tr>\n    <tr>\n      <th>13</th>\n      <td>FOOD_AND_DRINK</td>\n      <td>6325028.0</td>\n    </tr>\n    <tr>\n      <th>7</th>\n      <td>DATING</td>\n      <td>3623544.0</td>\n    </tr>\n    <tr>\n      <th>5</th>\n      <td>COMICS</td>\n      <td>2342071.0</td>\n    </tr>\n    <tr>\n      <th>16</th>\n      <td>HOUSE_AND_HOME</td>\n      <td>1929847.0</td>\n    </tr>\n    <tr>\n      <th>0</th>\n      <td>ART_AND_DESIGN</td>\n      <td>1419203.0</td>\n    </tr>\n    <tr>\n      <th>20</th>\n      <td>MEDICAL</td>\n      <td>1182971.0</td>\n    </tr>\n    <tr>\n      <th>1</th>\n      <td>AUTO_AND_VEHICLES</td>\n      <td>1163666.0</td>\n    </tr>\n    <tr>\n      <th>22</th>\n      <td>PARENTING</td>\n      <td>958331.0</td>\n    </tr>\n    <tr>\n      <th>17</th>\n      <td>LIBRARIES_AND_DEMO</td>\n      <td>906831.0</td>\n    </tr>\n    <tr>\n      <th>2</th>\n      <td>BEAUTY</td>\n      <td>396240.0</td>\n    </tr>\n    <tr>\n      <th>10</th>\n      <td>EVENTS</td>\n      <td>161018.0</td>\n    </tr>\n  </tbody>\n</table>\n</div>"
     },
     "execution_count": 3,
     "metadata": {},
     "output_type": "execute_result"
    }
   ],
   "source": [
    "sum_cat_reviews = df.groupby(by='Category')['Reviews'].sum().reset_index().sort_values('Reviews', ascending=False)\n",
    "sum_cat_reviews.head(42)"
   ],
   "metadata": {
    "collapsed": false,
    "pycharm": {
     "name": "#%%\n"
    }
   }
  },
  {
   "cell_type": "markdown",
   "source": [
    "### CATEGORY vs INSTALLS"
   ],
   "metadata": {
    "collapsed": false
   }
  },
  {
   "cell_type": "markdown",
   "source": [
    "**Quais categorias possuem mais downloads?**"
   ],
   "metadata": {
    "collapsed": false
   }
  },
  {
   "cell_type": "code",
   "execution_count": 4,
   "outputs": [
    {
     "data": {
      "text/plain": "               Category     Installs\n14                 GAME  13878924415\n6         COMMUNICATION  11038276251\n29                TOOLS   8001771915\n25         PRODUCTIVITY   5793091369\n27               SOCIAL   5487867902\n24          PHOTOGRAPHY   4649147655\n11               FAMILY   4427941505\n31        VIDEO_PLAYERS   3926902720\n30     TRAVEL_AND_LOCAL   2894887146\n21   NEWS_AND_MAGAZINES   2369217760\n9         ENTERTAINMENT   2113660000\n3   BOOKS_AND_REFERENCE   1665969576\n23      PERSONALIZATION   1532494782\n26             SHOPPING   1400348785\n15   HEALTH_AND_FITNESS   1144022512\n28               SPORTS   1096474498\n4              BUSINESS    697164865\n18            LIFESTYLE    503823539\n19  MAPS_AND_NAVIGATION    503281890\n12              FINANCE    455348734\n32              WEATHER    361100520\n8             EDUCATION    352952000\n13       FOOD_AND_DRINK    211798751\n7                DATING    140926107\n0        ART_AND_DESIGN    114338100\n16       HOUSE_AND_HOME     97212461\n1     AUTO_AND_VEHICLES     53130211\n17   LIBRARIES_AND_DEMO     52995910\n5                COMICS     44981150\n20              MEDICAL     38193177\n22            PARENTING     31521110\n2                BEAUTY     27197050\n10               EVENTS     15973161",
      "text/html": "<div>\n<style scoped>\n    .dataframe tbody tr th:only-of-type {\n        vertical-align: middle;\n    }\n\n    .dataframe tbody tr th {\n        vertical-align: top;\n    }\n\n    .dataframe thead th {\n        text-align: right;\n    }\n</style>\n<table border=\"1\" class=\"dataframe\">\n  <thead>\n    <tr style=\"text-align: right;\">\n      <th></th>\n      <th>Category</th>\n      <th>Installs</th>\n    </tr>\n  </thead>\n  <tbody>\n    <tr>\n      <th>14</th>\n      <td>GAME</td>\n      <td>13878924415</td>\n    </tr>\n    <tr>\n      <th>6</th>\n      <td>COMMUNICATION</td>\n      <td>11038276251</td>\n    </tr>\n    <tr>\n      <th>29</th>\n      <td>TOOLS</td>\n      <td>8001771915</td>\n    </tr>\n    <tr>\n      <th>25</th>\n      <td>PRODUCTIVITY</td>\n      <td>5793091369</td>\n    </tr>\n    <tr>\n      <th>27</th>\n      <td>SOCIAL</td>\n      <td>5487867902</td>\n    </tr>\n    <tr>\n      <th>24</th>\n      <td>PHOTOGRAPHY</td>\n      <td>4649147655</td>\n    </tr>\n    <tr>\n      <th>11</th>\n      <td>FAMILY</td>\n      <td>4427941505</td>\n    </tr>\n    <tr>\n      <th>31</th>\n      <td>VIDEO_PLAYERS</td>\n      <td>3926902720</td>\n    </tr>\n    <tr>\n      <th>30</th>\n      <td>TRAVEL_AND_LOCAL</td>\n      <td>2894887146</td>\n    </tr>\n    <tr>\n      <th>21</th>\n      <td>NEWS_AND_MAGAZINES</td>\n      <td>2369217760</td>\n    </tr>\n    <tr>\n      <th>9</th>\n      <td>ENTERTAINMENT</td>\n      <td>2113660000</td>\n    </tr>\n    <tr>\n      <th>3</th>\n      <td>BOOKS_AND_REFERENCE</td>\n      <td>1665969576</td>\n    </tr>\n    <tr>\n      <th>23</th>\n      <td>PERSONALIZATION</td>\n      <td>1532494782</td>\n    </tr>\n    <tr>\n      <th>26</th>\n      <td>SHOPPING</td>\n      <td>1400348785</td>\n    </tr>\n    <tr>\n      <th>15</th>\n      <td>HEALTH_AND_FITNESS</td>\n      <td>1144022512</td>\n    </tr>\n    <tr>\n      <th>28</th>\n      <td>SPORTS</td>\n      <td>1096474498</td>\n    </tr>\n    <tr>\n      <th>4</th>\n      <td>BUSINESS</td>\n      <td>697164865</td>\n    </tr>\n    <tr>\n      <th>18</th>\n      <td>LIFESTYLE</td>\n      <td>503823539</td>\n    </tr>\n    <tr>\n      <th>19</th>\n      <td>MAPS_AND_NAVIGATION</td>\n      <td>503281890</td>\n    </tr>\n    <tr>\n      <th>12</th>\n      <td>FINANCE</td>\n      <td>455348734</td>\n    </tr>\n    <tr>\n      <th>32</th>\n      <td>WEATHER</td>\n      <td>361100520</td>\n    </tr>\n    <tr>\n      <th>8</th>\n      <td>EDUCATION</td>\n      <td>352952000</td>\n    </tr>\n    <tr>\n      <th>13</th>\n      <td>FOOD_AND_DRINK</td>\n      <td>211798751</td>\n    </tr>\n    <tr>\n      <th>7</th>\n      <td>DATING</td>\n      <td>140926107</td>\n    </tr>\n    <tr>\n      <th>0</th>\n      <td>ART_AND_DESIGN</td>\n      <td>114338100</td>\n    </tr>\n    <tr>\n      <th>16</th>\n      <td>HOUSE_AND_HOME</td>\n      <td>97212461</td>\n    </tr>\n    <tr>\n      <th>1</th>\n      <td>AUTO_AND_VEHICLES</td>\n      <td>53130211</td>\n    </tr>\n    <tr>\n      <th>17</th>\n      <td>LIBRARIES_AND_DEMO</td>\n      <td>52995910</td>\n    </tr>\n    <tr>\n      <th>5</th>\n      <td>COMICS</td>\n      <td>44981150</td>\n    </tr>\n    <tr>\n      <th>20</th>\n      <td>MEDICAL</td>\n      <td>38193177</td>\n    </tr>\n    <tr>\n      <th>22</th>\n      <td>PARENTING</td>\n      <td>31521110</td>\n    </tr>\n    <tr>\n      <th>2</th>\n      <td>BEAUTY</td>\n      <td>27197050</td>\n    </tr>\n    <tr>\n      <th>10</th>\n      <td>EVENTS</td>\n      <td>15973161</td>\n    </tr>\n  </tbody>\n</table>\n</div>"
     },
     "execution_count": 4,
     "metadata": {},
     "output_type": "execute_result"
    }
   ],
   "source": [
    "sum_cat_install = df.groupby(by='Category')['Installs'].sum().reset_index().sort_values('Installs', ascending=False)\n",
    "sum_cat_install.head(42)"
   ],
   "metadata": {
    "collapsed": false,
    "pycharm": {
     "name": "#%%\n"
    }
   }
  },
  {
   "cell_type": "markdown",
   "source": [
    "`Conside que o app mais popular é o mais baixado e que possui a melhor avaliação (rating)`. </br>\n",
    "**Neste contexto, mostre quais são os 10 apps mais populares**."
   ],
   "metadata": {
    "collapsed": false
   }
  },
  {
   "cell_type": "code",
   "execution_count": 5,
   "outputs": [
    {
     "data": {
      "text/plain": "                               App  Rating    Installs\n1356                Subway Surfers     4.5  1000000000\n2003                     Instagram     4.5  1000000000\n2191                 Google Photos     4.5  1000000000\n300             WhatsApp Messenger     4.4  1000000000\n2507                        Google     4.4  1000000000\n2720                  Google Drive     4.4  1000000000\n302   Google Chrome: Fast & Secure     4.3  1000000000\n304                          Gmail     4.3  1000000000\n701              Google Play Games     4.3  1000000000\n2420     Maps - Navigate & Explore     4.3  1000000000",
      "text/html": "<div>\n<style scoped>\n    .dataframe tbody tr th:only-of-type {\n        vertical-align: middle;\n    }\n\n    .dataframe tbody tr th {\n        vertical-align: top;\n    }\n\n    .dataframe thead th {\n        text-align: right;\n    }\n</style>\n<table border=\"1\" class=\"dataframe\">\n  <thead>\n    <tr style=\"text-align: right;\">\n      <th></th>\n      <th>App</th>\n      <th>Rating</th>\n      <th>Installs</th>\n    </tr>\n  </thead>\n  <tbody>\n    <tr>\n      <th>1356</th>\n      <td>Subway Surfers</td>\n      <td>4.5</td>\n      <td>1000000000</td>\n    </tr>\n    <tr>\n      <th>2003</th>\n      <td>Instagram</td>\n      <td>4.5</td>\n      <td>1000000000</td>\n    </tr>\n    <tr>\n      <th>2191</th>\n      <td>Google Photos</td>\n      <td>4.5</td>\n      <td>1000000000</td>\n    </tr>\n    <tr>\n      <th>300</th>\n      <td>WhatsApp Messenger</td>\n      <td>4.4</td>\n      <td>1000000000</td>\n    </tr>\n    <tr>\n      <th>2507</th>\n      <td>Google</td>\n      <td>4.4</td>\n      <td>1000000000</td>\n    </tr>\n    <tr>\n      <th>2720</th>\n      <td>Google Drive</td>\n      <td>4.4</td>\n      <td>1000000000</td>\n    </tr>\n    <tr>\n      <th>302</th>\n      <td>Google Chrome: Fast &amp; Secure</td>\n      <td>4.3</td>\n      <td>1000000000</td>\n    </tr>\n    <tr>\n      <th>304</th>\n      <td>Gmail</td>\n      <td>4.3</td>\n      <td>1000000000</td>\n    </tr>\n    <tr>\n      <th>701</th>\n      <td>Google Play Games</td>\n      <td>4.3</td>\n      <td>1000000000</td>\n    </tr>\n    <tr>\n      <th>2420</th>\n      <td>Maps - Navigate &amp; Explore</td>\n      <td>4.3</td>\n      <td>1000000000</td>\n    </tr>\n  </tbody>\n</table>\n</div>"
     },
     "execution_count": 5,
     "metadata": {},
     "output_type": "execute_result"
    }
   ],
   "source": [
    "top10_apps = df.sort_values(by=['Installs','Rating'], ascending=False).head(10)\n",
    "top10_apps[['App', 'Rating', 'Installs']]"
   ],
   "metadata": {
    "collapsed": false,
    "pycharm": {
     "name": "#%%\n"
    }
   }
  },
  {
   "cell_type": "markdown",
   "source": [
    "**Pesquise e apresente uma forma mostrar quais os termos(palavras) mais usadas em nomes de apps.**"
   ],
   "metadata": {
    "collapsed": false
   }
  },
  {
   "cell_type": "code",
   "execution_count": 6,
   "outputs": [
    {
     "data": {
      "text/plain": "Learn         51\nFree          47\nGoogle        38\nSuper         28\nPhoto         27\nBest          24\nFlorida       22\nWallpapers    21\nEnglish       19\nReal          18\ndtype: int64"
     },
     "metadata": {},
     "output_type": "display_data"
    }
   ],
   "source": [
    "appName = df['App'].str.split(\" \",expand=True)\n",
    "lista=[]\n",
    "for i in range(appName.shape[1]):\n",
    "     lista.append(appName[i].tolist())\n",
    "lista2 = [re.sub(r'[^\\w\\s]','',i) for i in lista[0] if len(i)>3]\n",
    "lista2 = pd.DataFrame(lista2)\n",
    "display(lista2.value_counts().sort_values(ascending=False).head(10))\n"
   ],
   "metadata": {
    "collapsed": false,
    "pycharm": {
     "name": "#%%\n"
    }
   }
  }
 ],
 "metadata": {
  "kernelspec": {
   "display_name": "Python 3",
   "language": "python",
   "name": "python3"
  },
  "language_info": {
   "codemirror_mode": {
    "name": "ipython",
    "version": 3
   },
   "file_extension": ".py",
   "mimetype": "text/x-python",
   "name": "python",
   "nbconvert_exporter": "python",
   "pygments_lexer": "ipython3",
   "version": "3.8.6"
  }
 },
 "nbformat": 4,
 "nbformat_minor": 5
}