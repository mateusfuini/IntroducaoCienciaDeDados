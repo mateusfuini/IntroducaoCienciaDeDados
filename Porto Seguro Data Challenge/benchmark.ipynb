{
 "cells": [
  {
   "cell_type": "markdown",
   "metadata": {
    "tags": []
   },
   "source": [
    "# Porto Seguro Data Challenge\n",
    "https://www.kaggle.com/competitions/porto-seguro-data-challenge/overview\n",
    "\n",
    "Você provavelmente já recebeu uma ligação de telemarketing oferecendo um produto que você não precisa. Essa situação de estresse é minimizada quando você oferece um produto que o cliente realmente precisa.\n",
    "\n",
    "Nessa competição você será desafiado a construir um **modelo que prediz a probabilidade de aquisição de um produto**\\."
   ]
  },
  {
   "cell_type": "markdown",
   "metadata": {},
   "source": [
    "## Importações"
   ]
  },
  {
   "cell_type": "code",
   "execution_count": 1,
   "metadata": {},
   "outputs": [],
   "source": [
    "import pandas as pd\n",
    "import numpy as np\n",
    "import matplotlib.pyplot as plt\n",
    "\n",
    "from sklearn.model_selection import train_test_split\n",
    "from sklearn.tree import DecisionTreeClassifier\n",
    "\n",
    "from sklearn import metrics\n",
    "from sklearn.metrics import confusion_matrix, f1_score"
   ]
  },
  {
   "cell_type": "markdown",
   "metadata": {},
   "source": [
    "## Definição de Funções"
   ]
  },
  {
   "cell_type": "code",
   "execution_count": 2,
   "metadata": {},
   "outputs": [],
   "source": [
    "def generate_performance_stats(y_test, y_pred):\n",
    "    cm = confusion_matrix(y_test, y_pred)\n",
    "    print(\"Accuracy: {}\\n\".format(metrics.accuracy_score(y_test,y_pred)))\n",
    "    print(\"F1-score: {}\\n\".format(metrics.f1_score(y_test, y_pred)))\n",
    "    print(\"Confusion Matrix: \\n{}\\n\".format(pd.crosstab(y_test, y_pred, rownames=['Actual'], colnames=['Predicted'])))"
   ]
  },
  {
   "cell_type": "markdown",
   "metadata": {},
   "source": [
    "## Carregar a base de dados"
   ]
  },
  {
   "cell_type": "code",
   "execution_count": 3,
   "metadata": {},
   "outputs": [],
   "source": [
    "raw_data = pd.read_csv('../input/train.csv', sep=',')"
   ]
  },
  {
   "cell_type": "code",
   "execution_count": 4,
   "metadata": {},
   "outputs": [
    {
     "data": {
      "text/html": [
       "<div>\n",
       "<style scoped>\n",
       "    .dataframe tbody tr th:only-of-type {\n",
       "        vertical-align: middle;\n",
       "    }\n",
       "\n",
       "    .dataframe tbody tr th {\n",
       "        vertical-align: top;\n",
       "    }\n",
       "\n",
       "    .dataframe thead th {\n",
       "        text-align: right;\n",
       "    }\n",
       "</style>\n",
       "<table border=\"1\" class=\"dataframe\">\n",
       "  <thead>\n",
       "    <tr style=\"text-align: right;\">\n",
       "      <th></th>\n",
       "      <th>id</th>\n",
       "      <th>var1</th>\n",
       "      <th>var2</th>\n",
       "      <th>var3</th>\n",
       "      <th>var4</th>\n",
       "      <th>var5</th>\n",
       "      <th>var6</th>\n",
       "      <th>var7</th>\n",
       "      <th>var8</th>\n",
       "      <th>var9</th>\n",
       "      <th>...</th>\n",
       "      <th>var60</th>\n",
       "      <th>var61</th>\n",
       "      <th>var62</th>\n",
       "      <th>var63</th>\n",
       "      <th>var64</th>\n",
       "      <th>var65</th>\n",
       "      <th>var66</th>\n",
       "      <th>var67</th>\n",
       "      <th>var68</th>\n",
       "      <th>y</th>\n",
       "    </tr>\n",
       "  </thead>\n",
       "  <tbody>\n",
       "    <tr>\n",
       "      <th>0</th>\n",
       "      <td>1</td>\n",
       "      <td>18</td>\n",
       "      <td>19</td>\n",
       "      <td>2853</td>\n",
       "      <td>29442</td>\n",
       "      <td>1386</td>\n",
       "      <td>2435</td>\n",
       "      <td>35</td>\n",
       "      <td>-999</td>\n",
       "      <td>3</td>\n",
       "      <td>...</td>\n",
       "      <td>0.311441</td>\n",
       "      <td>0.142303</td>\n",
       "      <td>0.056146</td>\n",
       "      <td>0.632694</td>\n",
       "      <td>0.024054</td>\n",
       "      <td>0.253356</td>\n",
       "      <td>0.00603</td>\n",
       "      <td>0.132353</td>\n",
       "      <td>0.139706</td>\n",
       "      <td>1</td>\n",
       "    </tr>\n",
       "    <tr>\n",
       "      <th>1</th>\n",
       "      <td>8</td>\n",
       "      <td>4</td>\n",
       "      <td>110</td>\n",
       "      <td>1986</td>\n",
       "      <td>13684</td>\n",
       "      <td>7189</td>\n",
       "      <td>-999</td>\n",
       "      <td>-999</td>\n",
       "      <td>17</td>\n",
       "      <td>3</td>\n",
       "      <td>...</td>\n",
       "      <td>-999.000000</td>\n",
       "      <td>-999.000000</td>\n",
       "      <td>0.070991</td>\n",
       "      <td>0.773966</td>\n",
       "      <td>0.019315</td>\n",
       "      <td>-999.000000</td>\n",
       "      <td>-999.00000</td>\n",
       "      <td>0.147059</td>\n",
       "      <td>0.106618</td>\n",
       "      <td>0</td>\n",
       "    </tr>\n",
       "    <tr>\n",
       "      <th>2</th>\n",
       "      <td>30</td>\n",
       "      <td>0</td>\n",
       "      <td>39</td>\n",
       "      <td>1019</td>\n",
       "      <td>10232</td>\n",
       "      <td>678</td>\n",
       "      <td>791</td>\n",
       "      <td>16</td>\n",
       "      <td>-999</td>\n",
       "      <td>3</td>\n",
       "      <td>...</td>\n",
       "      <td>-999.000000</td>\n",
       "      <td>0.200814</td>\n",
       "      <td>0.051046</td>\n",
       "      <td>0.980827</td>\n",
       "      <td>0.018536</td>\n",
       "      <td>-999.000000</td>\n",
       "      <td>-999.00000</td>\n",
       "      <td>0.382353</td>\n",
       "      <td>0.242647</td>\n",
       "      <td>0</td>\n",
       "    </tr>\n",
       "    <tr>\n",
       "      <th>3</th>\n",
       "      <td>43</td>\n",
       "      <td>20</td>\n",
       "      <td>39</td>\n",
       "      <td>1751</td>\n",
       "      <td>2689</td>\n",
       "      <td>8235</td>\n",
       "      <td>1042</td>\n",
       "      <td>13</td>\n",
       "      <td>10</td>\n",
       "      <td>1</td>\n",
       "      <td>...</td>\n",
       "      <td>-999.000000</td>\n",
       "      <td>0.352379</td>\n",
       "      <td>0.044301</td>\n",
       "      <td>0.951564</td>\n",
       "      <td>0.023684</td>\n",
       "      <td>0.363370</td>\n",
       "      <td>0.00201</td>\n",
       "      <td>0.147059</td>\n",
       "      <td>0.132353</td>\n",
       "      <td>0</td>\n",
       "    </tr>\n",
       "    <tr>\n",
       "      <th>4</th>\n",
       "      <td>46</td>\n",
       "      <td>7</td>\n",
       "      <td>44</td>\n",
       "      <td>2262</td>\n",
       "      <td>29428</td>\n",
       "      <td>6031</td>\n",
       "      <td>304</td>\n",
       "      <td>16</td>\n",
       "      <td>-999</td>\n",
       "      <td>3</td>\n",
       "      <td>...</td>\n",
       "      <td>0.021226</td>\n",
       "      <td>0.226161</td>\n",
       "      <td>0.059125</td>\n",
       "      <td>0.906155</td>\n",
       "      <td>0.020733</td>\n",
       "      <td>-999.000000</td>\n",
       "      <td>-999.00000</td>\n",
       "      <td>0.455882</td>\n",
       "      <td>0.132353</td>\n",
       "      <td>1</td>\n",
       "    </tr>\n",
       "  </tbody>\n",
       "</table>\n",
       "<p>5 rows × 70 columns</p>\n",
       "</div>"
      ],
      "text/plain": [
       "   id  var1  var2  var3   var4  var5  var6  var7  var8  var9  ...       var60  \\\n",
       "0   1    18    19  2853  29442  1386  2435    35  -999     3  ...    0.311441   \n",
       "1   8     4   110  1986  13684  7189  -999  -999    17     3  ... -999.000000   \n",
       "2  30     0    39  1019  10232   678   791    16  -999     3  ... -999.000000   \n",
       "3  43    20    39  1751   2689  8235  1042    13    10     1  ... -999.000000   \n",
       "4  46     7    44  2262  29428  6031   304    16  -999     3  ...    0.021226   \n",
       "\n",
       "        var61     var62     var63     var64       var65      var66     var67  \\\n",
       "0    0.142303  0.056146  0.632694  0.024054    0.253356    0.00603  0.132353   \n",
       "1 -999.000000  0.070991  0.773966  0.019315 -999.000000 -999.00000  0.147059   \n",
       "2    0.200814  0.051046  0.980827  0.018536 -999.000000 -999.00000  0.382353   \n",
       "3    0.352379  0.044301  0.951564  0.023684    0.363370    0.00201  0.147059   \n",
       "4    0.226161  0.059125  0.906155  0.020733 -999.000000 -999.00000  0.455882   \n",
       "\n",
       "      var68  y  \n",
       "0  0.139706  1  \n",
       "1  0.106618  0  \n",
       "2  0.242647  0  \n",
       "3  0.132353  0  \n",
       "4  0.132353  1  \n",
       "\n",
       "[5 rows x 70 columns]"
      ]
     },
     "execution_count": 4,
     "metadata": {},
     "output_type": "execute_result"
    }
   ],
   "source": [
    "raw_data.head()"
   ]
  },
  {
   "cell_type": "code",
   "execution_count": 5,
   "metadata": {},
   "outputs": [
    {
     "data": {
      "text/plain": [
       "(14123, 70)"
      ]
     },
     "execution_count": 5,
     "metadata": {},
     "output_type": "execute_result"
    }
   ],
   "source": [
    "raw_data.shape"
   ]
  },
  {
   "cell_type": "code",
   "execution_count": 6,
   "metadata": {},
   "outputs": [
    {
     "data": {
      "text/plain": [
       "id         int64\n",
       "var1       int64\n",
       "var2       int64\n",
       "var3       int64\n",
       "var4       int64\n",
       "          ...   \n",
       "var65    float64\n",
       "var66    float64\n",
       "var67    float64\n",
       "var68    float64\n",
       "y          int64\n",
       "Length: 70, dtype: object"
      ]
     },
     "execution_count": 6,
     "metadata": {},
     "output_type": "execute_result"
    }
   ],
   "source": [
    "# Exibindo os tipos de cada feature (coluna)\n",
    "raw_data.dtypes"
   ]
  },
  {
   "cell_type": "code",
   "execution_count": 7,
   "metadata": {
    "scrolled": true
   },
   "outputs": [
    {
     "name": "stdout",
     "output_type": "stream",
     "text": [
      "<class 'pandas.core.frame.DataFrame'>\n",
      "RangeIndex: 14123 entries, 0 to 14122\n",
      "Data columns (total 70 columns):\n",
      " #   Column  Non-Null Count  Dtype  \n",
      "---  ------  --------------  -----  \n",
      " 0   id      14123 non-null  int64  \n",
      " 1   var1    14123 non-null  int64  \n",
      " 2   var2    14123 non-null  int64  \n",
      " 3   var3    14123 non-null  int64  \n",
      " 4   var4    14123 non-null  int64  \n",
      " 5   var5    14123 non-null  int64  \n",
      " 6   var6    14123 non-null  int64  \n",
      " 7   var7    14123 non-null  int64  \n",
      " 8   var8    14123 non-null  int64  \n",
      " 9   var9    14123 non-null  int64  \n",
      " 10  var10   14123 non-null  int64  \n",
      " 11  var11   14123 non-null  int64  \n",
      " 12  var12   14123 non-null  int64  \n",
      " 13  var13   14123 non-null  int64  \n",
      " 14  var14   14123 non-null  int64  \n",
      " 15  var15   14123 non-null  int64  \n",
      " 16  var16   14123 non-null  int64  \n",
      " 17  var17   14123 non-null  int64  \n",
      " 18  var18   14123 non-null  int64  \n",
      " 19  var19   14123 non-null  int64  \n",
      " 20  var20   14123 non-null  int64  \n",
      " 21  var21   14123 non-null  int64  \n",
      " 22  var22   14123 non-null  int64  \n",
      " 23  var23   14123 non-null  int64  \n",
      " 24  var24   14123 non-null  int64  \n",
      " 25  var25   14123 non-null  int64  \n",
      " 26  var26   14123 non-null  int64  \n",
      " 27  var27   14123 non-null  int64  \n",
      " 28  var28   14123 non-null  int64  \n",
      " 29  var29   14123 non-null  int64  \n",
      " 30  var30   14123 non-null  int64  \n",
      " 31  var31   14123 non-null  int64  \n",
      " 32  var32   14123 non-null  int64  \n",
      " 33  var33   14123 non-null  int64  \n",
      " 34  var34   14123 non-null  int64  \n",
      " 35  var35   14123 non-null  int64  \n",
      " 36  var36   14123 non-null  int64  \n",
      " 37  var37   14123 non-null  int64  \n",
      " 38  var38   14123 non-null  int64  \n",
      " 39  var39   14123 non-null  int64  \n",
      " 40  var40   14123 non-null  int64  \n",
      " 41  var41   14123 non-null  int64  \n",
      " 42  var42   14123 non-null  int64  \n",
      " 43  var43   14123 non-null  int64  \n",
      " 44  var44   14123 non-null  int64  \n",
      " 45  var45   14123 non-null  int64  \n",
      " 46  var46   14123 non-null  int64  \n",
      " 47  var47   14123 non-null  int64  \n",
      " 48  var48   14123 non-null  int64  \n",
      " 49  var49   14123 non-null  int64  \n",
      " 50  var50   14123 non-null  int64  \n",
      " 51  var51   14123 non-null  int64  \n",
      " 52  var52   14123 non-null  int64  \n",
      " 53  var53   14123 non-null  int64  \n",
      " 54  var54   14123 non-null  int64  \n",
      " 55  var55   14123 non-null  float64\n",
      " 56  var56   14123 non-null  float64\n",
      " 57  var57   14123 non-null  float64\n",
      " 58  var58   14123 non-null  float64\n",
      " 59  var59   14123 non-null  float64\n",
      " 60  var60   14123 non-null  float64\n",
      " 61  var61   14123 non-null  float64\n",
      " 62  var62   14123 non-null  float64\n",
      " 63  var63   14123 non-null  float64\n",
      " 64  var64   14123 non-null  float64\n",
      " 65  var65   14123 non-null  float64\n",
      " 66  var66   14123 non-null  float64\n",
      " 67  var67   14123 non-null  float64\n",
      " 68  var68   14123 non-null  float64\n",
      " 69  y       14123 non-null  int64  \n",
      "dtypes: float64(14), int64(56)\n",
      "memory usage: 7.5 MB\n"
     ]
    }
   ],
   "source": [
    "raw_data.info()"
   ]
  },
  {
   "cell_type": "markdown",
   "metadata": {},
   "source": [
    "**Não existem valores faltantes NA (not available), mas parecem terem sido substituídos por -999**"
   ]
  },
  {
   "cell_type": "code",
   "execution_count": 8,
   "metadata": {
    "tags": []
   },
   "outputs": [
    {
     "data": {
      "text/html": [
       "<div>\n",
       "<style scoped>\n",
       "    .dataframe tbody tr th:only-of-type {\n",
       "        vertical-align: middle;\n",
       "    }\n",
       "\n",
       "    .dataframe tbody tr th {\n",
       "        vertical-align: top;\n",
       "    }\n",
       "\n",
       "    .dataframe thead th {\n",
       "        text-align: right;\n",
       "    }\n",
       "</style>\n",
       "<table border=\"1\" class=\"dataframe\">\n",
       "  <thead>\n",
       "    <tr style=\"text-align: right;\">\n",
       "      <th></th>\n",
       "      <th>id</th>\n",
       "      <th>var1</th>\n",
       "      <th>var2</th>\n",
       "      <th>var3</th>\n",
       "      <th>var4</th>\n",
       "      <th>var5</th>\n",
       "      <th>var6</th>\n",
       "      <th>var7</th>\n",
       "      <th>var8</th>\n",
       "      <th>var9</th>\n",
       "      <th>...</th>\n",
       "      <th>var60</th>\n",
       "      <th>var61</th>\n",
       "      <th>var62</th>\n",
       "      <th>var63</th>\n",
       "      <th>var64</th>\n",
       "      <th>var65</th>\n",
       "      <th>var66</th>\n",
       "      <th>var67</th>\n",
       "      <th>var68</th>\n",
       "      <th>y</th>\n",
       "    </tr>\n",
       "  </thead>\n",
       "  <tbody>\n",
       "    <tr>\n",
       "      <th>count</th>\n",
       "      <td>14123.000000</td>\n",
       "      <td>14123.000000</td>\n",
       "      <td>14123.000000</td>\n",
       "      <td>14123.000000</td>\n",
       "      <td>14123.000000</td>\n",
       "      <td>14123.000000</td>\n",
       "      <td>14123.000000</td>\n",
       "      <td>14123.000000</td>\n",
       "      <td>14123.000000</td>\n",
       "      <td>14123.000000</td>\n",
       "      <td>...</td>\n",
       "      <td>14123.000000</td>\n",
       "      <td>14123.000000</td>\n",
       "      <td>14123.000000</td>\n",
       "      <td>14123.000000</td>\n",
       "      <td>14123.000000</td>\n",
       "      <td>14123.000000</td>\n",
       "      <td>14123.000000</td>\n",
       "      <td>14123.000000</td>\n",
       "      <td>14123.000000</td>\n",
       "      <td>14123.000000</td>\n",
       "    </tr>\n",
       "    <tr>\n",
       "      <th>mean</th>\n",
       "      <td>17474.649366</td>\n",
       "      <td>9.712667</td>\n",
       "      <td>23.966579</td>\n",
       "      <td>1584.671245</td>\n",
       "      <td>15179.176025</td>\n",
       "      <td>5543.697869</td>\n",
       "      <td>1315.314168</td>\n",
       "      <td>-109.713729</td>\n",
       "      <td>-138.426680</td>\n",
       "      <td>-106.362388</td>\n",
       "      <td>...</td>\n",
       "      <td>-458.540340</td>\n",
       "      <td>-24.210294</td>\n",
       "      <td>0.073086</td>\n",
       "      <td>0.779221</td>\n",
       "      <td>0.028778</td>\n",
       "      <td>-862.721979</td>\n",
       "      <td>-862.762111</td>\n",
       "      <td>-41.252803</td>\n",
       "      <td>-2.154825</td>\n",
       "      <td>0.201798</td>\n",
       "    </tr>\n",
       "    <tr>\n",
       "      <th>std</th>\n",
       "      <td>10249.066602</td>\n",
       "      <td>7.269559</td>\n",
       "      <td>218.429664</td>\n",
       "      <td>1118.101765</td>\n",
       "      <td>9994.295223</td>\n",
       "      <td>3329.493664</td>\n",
       "      <td>1210.074896</td>\n",
       "      <td>350.202420</td>\n",
       "      <td>371.128392</td>\n",
       "      <td>311.608454</td>\n",
       "      <td>...</td>\n",
       "      <td>497.945633</td>\n",
       "      <td>154.485314</td>\n",
       "      <td>0.053963</td>\n",
       "      <td>0.234068</td>\n",
       "      <td>0.018681</td>\n",
       "      <td>342.956927</td>\n",
       "      <td>342.855920</td>\n",
       "      <td>199.275514</td>\n",
       "      <td>48.244171</td>\n",
       "      <td>0.401357</td>\n",
       "    </tr>\n",
       "    <tr>\n",
       "      <th>min</th>\n",
       "      <td>1.000000</td>\n",
       "      <td>0.000000</td>\n",
       "      <td>-999.000000</td>\n",
       "      <td>-999.000000</td>\n",
       "      <td>-999.000000</td>\n",
       "      <td>0.000000</td>\n",
       "      <td>-999.000000</td>\n",
       "      <td>-999.000000</td>\n",
       "      <td>-999.000000</td>\n",
       "      <td>-999.000000</td>\n",
       "      <td>...</td>\n",
       "      <td>-999.000000</td>\n",
       "      <td>-999.000000</td>\n",
       "      <td>0.000000</td>\n",
       "      <td>0.000000</td>\n",
       "      <td>0.004267</td>\n",
       "      <td>-999.000000</td>\n",
       "      <td>-999.000000</td>\n",
       "      <td>-999.000000</td>\n",
       "      <td>-999.000000</td>\n",
       "      <td>0.000000</td>\n",
       "    </tr>\n",
       "    <tr>\n",
       "      <th>25%</th>\n",
       "      <td>8550.500000</td>\n",
       "      <td>4.000000</td>\n",
       "      <td>38.000000</td>\n",
       "      <td>731.000000</td>\n",
       "      <td>6493.500000</td>\n",
       "      <td>2374.000000</td>\n",
       "      <td>482.000000</td>\n",
       "      <td>16.000000</td>\n",
       "      <td>10.000000</td>\n",
       "      <td>1.000000</td>\n",
       "      <td>...</td>\n",
       "      <td>-999.000000</td>\n",
       "      <td>0.169428</td>\n",
       "      <td>0.040391</td>\n",
       "      <td>0.706357</td>\n",
       "      <td>0.018357</td>\n",
       "      <td>-999.000000</td>\n",
       "      <td>-999.000000</td>\n",
       "      <td>0.117647</td>\n",
       "      <td>0.136029</td>\n",
       "      <td>0.000000</td>\n",
       "    </tr>\n",
       "    <tr>\n",
       "      <th>50%</th>\n",
       "      <td>17464.000000</td>\n",
       "      <td>5.000000</td>\n",
       "      <td>53.000000</td>\n",
       "      <td>1461.000000</td>\n",
       "      <td>15309.000000</td>\n",
       "      <td>6159.000000</td>\n",
       "      <td>1558.000000</td>\n",
       "      <td>33.000000</td>\n",
       "      <td>24.000000</td>\n",
       "      <td>3.000000</td>\n",
       "      <td>...</td>\n",
       "      <td>0.009003</td>\n",
       "      <td>0.239625</td>\n",
       "      <td>0.060265</td>\n",
       "      <td>0.877901</td>\n",
       "      <td>0.023480</td>\n",
       "      <td>-999.000000</td>\n",
       "      <td>-999.000000</td>\n",
       "      <td>0.176471</td>\n",
       "      <td>0.176471</td>\n",
       "      <td>0.000000</td>\n",
       "    </tr>\n",
       "    <tr>\n",
       "      <th>75%</th>\n",
       "      <td>26358.500000</td>\n",
       "      <td>18.000000</td>\n",
       "      <td>110.000000</td>\n",
       "      <td>2481.000000</td>\n",
       "      <td>23818.000000</td>\n",
       "      <td>8594.000000</td>\n",
       "      <td>2438.000000</td>\n",
       "      <td>35.000000</td>\n",
       "      <td>27.000000</td>\n",
       "      <td>3.000000</td>\n",
       "      <td>...</td>\n",
       "      <td>0.152328</td>\n",
       "      <td>0.341919</td>\n",
       "      <td>0.088831</td>\n",
       "      <td>0.930373</td>\n",
       "      <td>0.034581</td>\n",
       "      <td>-999.000000</td>\n",
       "      <td>-999.000000</td>\n",
       "      <td>0.264706</td>\n",
       "      <td>0.220588</td>\n",
       "      <td>0.000000</td>\n",
       "    </tr>\n",
       "    <tr>\n",
       "      <th>max</th>\n",
       "      <td>35306.000000</td>\n",
       "      <td>30.000000</td>\n",
       "      <td>129.000000</td>\n",
       "      <td>3546.000000</td>\n",
       "      <td>32403.000000</td>\n",
       "      <td>11373.000000</td>\n",
       "      <td>3001.000000</td>\n",
       "      <td>36.000000</td>\n",
       "      <td>28.000000</td>\n",
       "      <td>3.000000</td>\n",
       "      <td>...</td>\n",
       "      <td>1.000000</td>\n",
       "      <td>0.934994</td>\n",
       "      <td>0.814846</td>\n",
       "      <td>1.000000</td>\n",
       "      <td>0.387386</td>\n",
       "      <td>1.000000</td>\n",
       "      <td>1.000000</td>\n",
       "      <td>0.911765</td>\n",
       "      <td>1.000000</td>\n",
       "      <td>1.000000</td>\n",
       "    </tr>\n",
       "  </tbody>\n",
       "</table>\n",
       "<p>8 rows × 70 columns</p>\n",
       "</div>"
      ],
      "text/plain": [
       "                 id          var1          var2          var3          var4  \\\n",
       "count  14123.000000  14123.000000  14123.000000  14123.000000  14123.000000   \n",
       "mean   17474.649366      9.712667     23.966579   1584.671245  15179.176025   \n",
       "std    10249.066602      7.269559    218.429664   1118.101765   9994.295223   \n",
       "min        1.000000      0.000000   -999.000000   -999.000000   -999.000000   \n",
       "25%     8550.500000      4.000000     38.000000    731.000000   6493.500000   \n",
       "50%    17464.000000      5.000000     53.000000   1461.000000  15309.000000   \n",
       "75%    26358.500000     18.000000    110.000000   2481.000000  23818.000000   \n",
       "max    35306.000000     30.000000    129.000000   3546.000000  32403.000000   \n",
       "\n",
       "               var5          var6          var7          var8          var9  \\\n",
       "count  14123.000000  14123.000000  14123.000000  14123.000000  14123.000000   \n",
       "mean    5543.697869   1315.314168   -109.713729   -138.426680   -106.362388   \n",
       "std     3329.493664   1210.074896    350.202420    371.128392    311.608454   \n",
       "min        0.000000   -999.000000   -999.000000   -999.000000   -999.000000   \n",
       "25%     2374.000000    482.000000     16.000000     10.000000      1.000000   \n",
       "50%     6159.000000   1558.000000     33.000000     24.000000      3.000000   \n",
       "75%     8594.000000   2438.000000     35.000000     27.000000      3.000000   \n",
       "max    11373.000000   3001.000000     36.000000     28.000000      3.000000   \n",
       "\n",
       "       ...         var60         var61         var62         var63  \\\n",
       "count  ...  14123.000000  14123.000000  14123.000000  14123.000000   \n",
       "mean   ...   -458.540340    -24.210294      0.073086      0.779221   \n",
       "std    ...    497.945633    154.485314      0.053963      0.234068   \n",
       "min    ...   -999.000000   -999.000000      0.000000      0.000000   \n",
       "25%    ...   -999.000000      0.169428      0.040391      0.706357   \n",
       "50%    ...      0.009003      0.239625      0.060265      0.877901   \n",
       "75%    ...      0.152328      0.341919      0.088831      0.930373   \n",
       "max    ...      1.000000      0.934994      0.814846      1.000000   \n",
       "\n",
       "              var64         var65         var66         var67         var68  \\\n",
       "count  14123.000000  14123.000000  14123.000000  14123.000000  14123.000000   \n",
       "mean       0.028778   -862.721979   -862.762111    -41.252803     -2.154825   \n",
       "std        0.018681    342.956927    342.855920    199.275514     48.244171   \n",
       "min        0.004267   -999.000000   -999.000000   -999.000000   -999.000000   \n",
       "25%        0.018357   -999.000000   -999.000000      0.117647      0.136029   \n",
       "50%        0.023480   -999.000000   -999.000000      0.176471      0.176471   \n",
       "75%        0.034581   -999.000000   -999.000000      0.264706      0.220588   \n",
       "max        0.387386      1.000000      1.000000      0.911765      1.000000   \n",
       "\n",
       "                  y  \n",
       "count  14123.000000  \n",
       "mean       0.201798  \n",
       "std        0.401357  \n",
       "min        0.000000  \n",
       "25%        0.000000  \n",
       "50%        0.000000  \n",
       "75%        0.000000  \n",
       "max        1.000000  \n",
       "\n",
       "[8 rows x 70 columns]"
      ]
     },
     "execution_count": 8,
     "metadata": {},
     "output_type": "execute_result"
    }
   ],
   "source": [
    "raw_data.describe()"
   ]
  },
  {
   "cell_type": "code",
   "execution_count": 9,
   "metadata": {},
   "outputs": [],
   "source": [
    "#Deletar a coluna id\n",
    "raw_data.drop(['id'], axis=1, inplace=True)"
   ]
  },
  {
   "cell_type": "code",
   "execution_count": 10,
   "metadata": {},
   "outputs": [
    {
     "data": {
      "text/html": [
       "<div>\n",
       "<style scoped>\n",
       "    .dataframe tbody tr th:only-of-type {\n",
       "        vertical-align: middle;\n",
       "    }\n",
       "\n",
       "    .dataframe tbody tr th {\n",
       "        vertical-align: top;\n",
       "    }\n",
       "\n",
       "    .dataframe thead th {\n",
       "        text-align: right;\n",
       "    }\n",
       "</style>\n",
       "<table border=\"1\" class=\"dataframe\">\n",
       "  <thead>\n",
       "    <tr style=\"text-align: right;\">\n",
       "      <th></th>\n",
       "      <th>y_count</th>\n",
       "    </tr>\n",
       "  </thead>\n",
       "  <tbody>\n",
       "    <tr>\n",
       "      <th>0</th>\n",
       "      <td>11273</td>\n",
       "    </tr>\n",
       "    <tr>\n",
       "      <th>1</th>\n",
       "      <td>2850</td>\n",
       "    </tr>\n",
       "  </tbody>\n",
       "</table>\n",
       "</div>"
      ],
      "text/plain": [
       "   y_count\n",
       "0    11273\n",
       "1     2850"
      ]
     },
     "execution_count": 10,
     "metadata": {},
     "output_type": "execute_result"
    }
   ],
   "source": [
    "#Preparar um df para plotar a proporção das classes\n",
    "df_plot = raw_data.groupby(\"y\").agg(\n",
    "    y_count=('y', 'count')\n",
    ")\n",
    "df_plot = df_plot.reset_index().drop(['y'], axis=1)\n",
    "df_plot"
   ]
  },
  {
   "cell_type": "code",
   "execution_count": 11,
   "metadata": {},
   "outputs": [
    {
     "data": {
      "image/png": "[encoded data removed]",
      "text/plain": [
       "<Figure size 432x432 with 1 Axes>"
      ]
     },
     "metadata": {},
     "output_type": "display_data"
    }
   ],
   "source": [
    "ax = df_plot.plot.pie(y='y_count', labels=['',''], autopct=\"%.2f%%\", colors=['lightgray', 'steelblue'], figsize=(6,6))\n",
    "ax.set_ylabel(\"\")\n",
    "ax.legend(loc=1, labels=['Não comprou', 'Comprou'])\n",
    "plt.show()"
   ]
  },
  {
   "cell_type": "markdown",
   "metadata": {},
   "source": [
    "**Base de dados desbalanceda**"
   ]
  },
  {
   "cell_type": "markdown",
   "metadata": {},
   "source": [
    "## Primeira abordagem\n",
    "Treinar modelos mantendo a base desbalanceada.\n",
    "80% para treinamento - 20% para validação"
   ]
  },
  {
   "cell_type": "code",
   "execution_count": 12,
   "metadata": {},
   "outputs": [],
   "source": [
    "# Checkpoint da base de dados bruta\n",
    "df_prep = raw_data.copy()"
   ]
  },
  {
   "cell_type": "code",
   "execution_count": 23,
   "metadata": {},
   "outputs": [],
   "source": [
    "# Separar uma base para validação\n",
    "X_train, X_val = train_test_split(df_prep, test_size=0.20, random_state=13)"
   ]
  },
  {
   "cell_type": "code",
   "execution_count": 24,
   "metadata": {},
   "outputs": [
    {
     "data": {
      "text/html": [
       "<div>\n",
       "<style scoped>\n",
       "    .dataframe tbody tr th:only-of-type {\n",
       "        vertical-align: middle;\n",
       "    }\n",
       "\n",
       "    .dataframe tbody tr th {\n",
       "        vertical-align: top;\n",
       "    }\n",
       "\n",
       "    .dataframe thead th {\n",
       "        text-align: right;\n",
       "    }\n",
       "</style>\n",
       "<table border=\"1\" class=\"dataframe\">\n",
       "  <thead>\n",
       "    <tr style=\"text-align: right;\">\n",
       "      <th></th>\n",
       "      <th>y_count</th>\n",
       "    </tr>\n",
       "  </thead>\n",
       "  <tbody>\n",
       "    <tr>\n",
       "      <th>0</th>\n",
       "      <td>2257</td>\n",
       "    </tr>\n",
       "    <tr>\n",
       "      <th>1</th>\n",
       "      <td>568</td>\n",
       "    </tr>\n",
       "  </tbody>\n",
       "</table>\n",
       "</div>"
      ],
      "text/plain": [
       "   y_count\n",
       "0     2257\n",
       "1      568"
      ]
     },
     "execution_count": 24,
     "metadata": {},
     "output_type": "execute_result"
    }
   ],
   "source": [
    "df_plot = X_val.groupby(\"y\").agg(\n",
    "    y_count=('y', 'count')\n",
    ")\n",
    "df_plot = df_plot.reset_index().drop(['y'], axis=1)\n",
    "df_plot"
   ]
  },
  {
   "cell_type": "code",
   "execution_count": 25,
   "metadata": {},
   "outputs": [
    {
     "data": {
      "image/png": "[encoded data removed]",
      "text/plain": [
       "<Figure size 432x432 with 1 Axes>"
      ]
     },
     "metadata": {},
     "output_type": "display_data"
    }
   ],
   "source": [
    "ax = df_plot.plot.pie(y='y_count', labels=['',''], autopct=\"%.2f%%\", colors=['lightgray', 'steelblue'], figsize=(6,6))\n",
    "ax.set_ylabel(\"\")\n",
    "ax.legend(loc=1, labels=['Não comprou', 'Comprou'])\n",
    "plt.show()"
   ]
  },
  {
   "cell_type": "code",
   "execution_count": 28,
   "metadata": {},
   "outputs": [
    {
     "data": {
      "text/plain": [
       "(14123, 69)"
      ]
     },
     "execution_count": 28,
     "metadata": {},
     "output_type": "execute_result"
    }
   ],
   "source": [
    "df_prep.shape"
   ]
  },
  {
   "cell_type": "code",
   "execution_count": 29,
   "metadata": {},
   "outputs": [
    {
     "data": {
      "text/plain": [
       "(11298, 69)"
      ]
     },
     "execution_count": 29,
     "metadata": {},
     "output_type": "execute_result"
    }
   ],
   "source": [
    "# Número de linhas e colunas da base de treinamento\n",
    "X_train.shape"
   ]
  },
  {
   "cell_type": "code",
   "execution_count": 30,
   "metadata": {},
   "outputs": [
    {
     "data": {
      "text/plain": [
       "(2825, 69)"
      ]
     },
     "execution_count": 30,
     "metadata": {},
     "output_type": "execute_result"
    }
   ],
   "source": [
    "# Número de linhas e colunas da base de validação\n",
    "X_val.shape"
   ]
  },
  {
   "cell_type": "code",
   "execution_count": 31,
   "metadata": {},
   "outputs": [],
   "source": [
    "# Separar o target das bases\n",
    "y_train = X_train['y'].values\n",
    "X_train = X_train.drop(['y'], axis=1)\n",
    "\n",
    "y_val = X_val['y'].values\n",
    "X_val = X_val.drop(['y'], axis=1)"
   ]
  },
  {
   "cell_type": "code",
   "execution_count": 32,
   "metadata": {},
   "outputs": [
    {
     "data": {
      "text/plain": [
       "DecisionTreeClassifier(random_state=13)"
      ]
     },
     "execution_count": 32,
     "metadata": {},
     "output_type": "execute_result"
    }
   ],
   "source": [
    "# Treinar um modelo usando um algoritmo de árvore de decisão\n",
    "clf = DecisionTreeClassifier(random_state=13)\n",
    "clf.fit(X_train, y_train)"
   ]
  },
  {
   "cell_type": "code",
   "execution_count": 33,
   "metadata": {},
   "outputs": [],
   "source": [
    "y_val_pred = clf.predict(X_val)\n",
    "y_val_predProba = clf.predict_proba(X_val)"
   ]
  },
  {
   "cell_type": "code",
   "execution_count": 34,
   "metadata": {},
   "outputs": [
    {
     "data": {
      "text/plain": [
       "array([0, 0, 0, ..., 0, 0, 0], dtype=int64)"
      ]
     },
     "execution_count": 34,
     "metadata": {},
     "output_type": "execute_result"
    }
   ],
   "source": [
    "y_val_pred"
   ]
  },
  {
   "cell_type": "code",
   "execution_count": 35,
   "metadata": {},
   "outputs": [
    {
     "data": {
      "text/plain": [
       "array([[1., 0.],\n",
       "       [1., 0.],\n",
       "       [1., 0.],\n",
       "       ...,\n",
       "       [1., 0.],\n",
       "       [1., 0.],\n",
       "       [1., 0.]])"
      ]
     },
     "execution_count": 35,
     "metadata": {},
     "output_type": "execute_result"
    }
   ],
   "source": [
    "y_val_predProba"
   ]
  },
  {
   "cell_type": "code",
   "execution_count": 36,
   "metadata": {},
   "outputs": [
    {
     "name": "stdout",
     "output_type": "stream",
     "text": [
      "Accuracy: 0.7968141592920354\n",
      "\n",
      "F1-score: 0.5102389078498294\n",
      "\n",
      "Confusion Matrix: \n",
      "Predicted     0    1\n",
      "Actual              \n",
      "0          1952  305\n",
      "1           269  299\n",
      "\n"
     ]
    }
   ],
   "source": [
    "#Avaliar o modelo com base em algumas métricas de desempenho\n",
    "generate_performance_stats(y_val, y_val_pred)"
   ]
  },
  {
   "cell_type": "markdown",
   "metadata": {},
   "source": [
    "### Obter as features mais importantes"
   ]
  },
  {
   "cell_type": "code",
   "execution_count": 37,
   "metadata": {},
   "outputs": [],
   "source": [
    "df_featImport = pd.DataFrame(columns=['feature', 'feat_importance'])"
   ]
  },
  {
   "cell_type": "code",
   "execution_count": 38,
   "metadata": {},
   "outputs": [
    {
     "data": {
      "text/html": [
       "<div>\n",
       "<style scoped>\n",
       "    .dataframe tbody tr th:only-of-type {\n",
       "        vertical-align: middle;\n",
       "    }\n",
       "\n",
       "    .dataframe tbody tr th {\n",
       "        vertical-align: top;\n",
       "    }\n",
       "\n",
       "    .dataframe thead th {\n",
       "        text-align: right;\n",
       "    }\n",
       "</style>\n",
       "<table border=\"1\" class=\"dataframe\">\n",
       "  <thead>\n",
       "    <tr style=\"text-align: right;\">\n",
       "      <th></th>\n",
       "      <th>feature</th>\n",
       "      <th>feat_importance</th>\n",
       "    </tr>\n",
       "  </thead>\n",
       "  <tbody>\n",
       "    <tr>\n",
       "      <th>3</th>\n",
       "      <td>var4</td>\n",
       "      <td>0.277934</td>\n",
       "    </tr>\n",
       "    <tr>\n",
       "      <th>7</th>\n",
       "      <td>var8</td>\n",
       "      <td>0.064438</td>\n",
       "    </tr>\n",
       "    <tr>\n",
       "      <th>6</th>\n",
       "      <td>var7</td>\n",
       "      <td>0.037877</td>\n",
       "    </tr>\n",
       "    <tr>\n",
       "      <th>55</th>\n",
       "      <td>var56</td>\n",
       "      <td>0.030828</td>\n",
       "    </tr>\n",
       "    <tr>\n",
       "      <th>54</th>\n",
       "      <td>var55</td>\n",
       "      <td>0.030096</td>\n",
       "    </tr>\n",
       "    <tr>\n",
       "      <th>2</th>\n",
       "      <td>var3</td>\n",
       "      <td>0.028013</td>\n",
       "    </tr>\n",
       "    <tr>\n",
       "      <th>58</th>\n",
       "      <td>var59</td>\n",
       "      <td>0.024840</td>\n",
       "    </tr>\n",
       "    <tr>\n",
       "      <th>61</th>\n",
       "      <td>var62</td>\n",
       "      <td>0.024818</td>\n",
       "    </tr>\n",
       "    <tr>\n",
       "      <th>11</th>\n",
       "      <td>var12</td>\n",
       "      <td>0.023273</td>\n",
       "    </tr>\n",
       "    <tr>\n",
       "      <th>34</th>\n",
       "      <td>var35</td>\n",
       "      <td>0.021361</td>\n",
       "    </tr>\n",
       "  </tbody>\n",
       "</table>\n",
       "</div>"
      ],
      "text/plain": [
       "   feature  feat_importance\n",
       "3     var4         0.277934\n",
       "7     var8         0.064438\n",
       "6     var7         0.037877\n",
       "55   var56         0.030828\n",
       "54   var55         0.030096\n",
       "2     var3         0.028013\n",
       "58   var59         0.024840\n",
       "61   var62         0.024818\n",
       "11   var12         0.023273\n",
       "34   var35         0.021361"
      ]
     },
     "execution_count": 38,
     "metadata": {},
     "output_type": "execute_result"
    }
   ],
   "source": [
    "df_featImport['feature'] = X_val.columns\n",
    "df_featImport['feat_importance'] = clf.feature_importances_\n",
    "df_featImport = df_featImport.sort_values(by='feat_importance', ascending=False)\n",
    "df_featImport[0:10]"
   ]
  },
  {
   "cell_type": "markdown",
   "metadata": {},
   "source": [
    "## Testar o modelo na base de teste"
   ]
  },
  {
   "cell_type": "code",
   "execution_count": 39,
   "metadata": {},
   "outputs": [],
   "source": [
    "# Utilizar toda a base de treinamento para treinar o modelo final (treinamento + validação)\n",
    "X_train = df_prep.copy()\n",
    "y_train = df_prep['y']\n",
    "X_train.drop(['y'], axis=1, inplace=True)"
   ]
  },
  {
   "cell_type": "code",
   "execution_count": 40,
   "metadata": {},
   "outputs": [
    {
     "data": {
      "text/plain": [
       "DecisionTreeClassifier(random_state=13)"
      ]
     },
     "execution_count": 40,
     "metadata": {},
     "output_type": "execute_result"
    }
   ],
   "source": [
    "# Treinar o modelo final\n",
    "clf = DecisionTreeClassifier(random_state=13)\n",
    "clf.fit(X_train, y_train)"
   ]
  },
  {
   "cell_type": "code",
   "execution_count": 41,
   "metadata": {},
   "outputs": [],
   "source": [
    "# Carregar a base de teste\n",
    "X_test = pd.read_csv('../input/test.csv', sep=',')"
   ]
  },
  {
   "cell_type": "code",
   "execution_count": 42,
   "metadata": {},
   "outputs": [
    {
     "data": {
      "text/html": [
       "<div>\n",
       "<style scoped>\n",
       "    .dataframe tbody tr th:only-of-type {\n",
       "        vertical-align: middle;\n",
       "    }\n",
       "\n",
       "    .dataframe tbody tr th {\n",
       "        vertical-align: top;\n",
       "    }\n",
       "\n",
       "    .dataframe thead th {\n",
       "        text-align: right;\n",
       "    }\n",
       "</style>\n",
       "<table border=\"1\" class=\"dataframe\">\n",
       "  <thead>\n",
       "    <tr style=\"text-align: right;\">\n",
       "      <th></th>\n",
       "      <th>id</th>\n",
       "      <th>var1</th>\n",
       "      <th>var2</th>\n",
       "      <th>var3</th>\n",
       "      <th>var4</th>\n",
       "      <th>var5</th>\n",
       "      <th>var6</th>\n",
       "      <th>var7</th>\n",
       "      <th>var8</th>\n",
       "      <th>var9</th>\n",
       "      <th>...</th>\n",
       "      <th>var59</th>\n",
       "      <th>var60</th>\n",
       "      <th>var61</th>\n",
       "      <th>var62</th>\n",
       "      <th>var63</th>\n",
       "      <th>var64</th>\n",
       "      <th>var65</th>\n",
       "      <th>var66</th>\n",
       "      <th>var67</th>\n",
       "      <th>var68</th>\n",
       "    </tr>\n",
       "  </thead>\n",
       "  <tbody>\n",
       "    <tr>\n",
       "      <th>0</th>\n",
       "      <td>0</td>\n",
       "      <td>5</td>\n",
       "      <td>126</td>\n",
       "      <td>1353</td>\n",
       "      <td>28956</td>\n",
       "      <td>743</td>\n",
       "      <td>1289</td>\n",
       "      <td>27</td>\n",
       "      <td>-999</td>\n",
       "      <td>1</td>\n",
       "      <td>...</td>\n",
       "      <td>0.201839</td>\n",
       "      <td>0.353965</td>\n",
       "      <td>0.166641</td>\n",
       "      <td>0.049108</td>\n",
       "      <td>0.986882</td>\n",
       "      <td>0.016683</td>\n",
       "      <td>-999.0</td>\n",
       "      <td>-999.0</td>\n",
       "      <td>0.176471</td>\n",
       "      <td>0.253676</td>\n",
       "    </tr>\n",
       "    <tr>\n",
       "      <th>1</th>\n",
       "      <td>2</td>\n",
       "      <td>6</td>\n",
       "      <td>126</td>\n",
       "      <td>1446</td>\n",
       "      <td>7803</td>\n",
       "      <td>5151</td>\n",
       "      <td>935</td>\n",
       "      <td>35</td>\n",
       "      <td>-999</td>\n",
       "      <td>3</td>\n",
       "      <td>...</td>\n",
       "      <td>0.072127</td>\n",
       "      <td>0.074555</td>\n",
       "      <td>0.217009</td>\n",
       "      <td>0.144403</td>\n",
       "      <td>0.892028</td>\n",
       "      <td>0.038323</td>\n",
       "      <td>-999.0</td>\n",
       "      <td>-999.0</td>\n",
       "      <td>0.147059</td>\n",
       "      <td>0.099265</td>\n",
       "    </tr>\n",
       "    <tr>\n",
       "      <th>2</th>\n",
       "      <td>4</td>\n",
       "      <td>5</td>\n",
       "      <td>44</td>\n",
       "      <td>243</td>\n",
       "      <td>4325</td>\n",
       "      <td>1109</td>\n",
       "      <td>1903</td>\n",
       "      <td>33</td>\n",
       "      <td>24</td>\n",
       "      <td>1</td>\n",
       "      <td>...</td>\n",
       "      <td>0.324770</td>\n",
       "      <td>0.384992</td>\n",
       "      <td>0.330680</td>\n",
       "      <td>0.072864</td>\n",
       "      <td>0.930373</td>\n",
       "      <td>0.021052</td>\n",
       "      <td>-999.0</td>\n",
       "      <td>-999.0</td>\n",
       "      <td>0.294118</td>\n",
       "      <td>0.136029</td>\n",
       "    </tr>\n",
       "    <tr>\n",
       "      <th>3</th>\n",
       "      <td>7</td>\n",
       "      <td>4</td>\n",
       "      <td>53</td>\n",
       "      <td>419</td>\n",
       "      <td>743</td>\n",
       "      <td>7750</td>\n",
       "      <td>183</td>\n",
       "      <td>35</td>\n",
       "      <td>-999</td>\n",
       "      <td>3</td>\n",
       "      <td>...</td>\n",
       "      <td>0.131070</td>\n",
       "      <td>-999.000000</td>\n",
       "      <td>0.244936</td>\n",
       "      <td>0.158088</td>\n",
       "      <td>0.986882</td>\n",
       "      <td>0.022649</td>\n",
       "      <td>-999.0</td>\n",
       "      <td>-999.0</td>\n",
       "      <td>0.294118</td>\n",
       "      <td>0.220588</td>\n",
       "    </tr>\n",
       "    <tr>\n",
       "      <th>4</th>\n",
       "      <td>15</td>\n",
       "      <td>4</td>\n",
       "      <td>126</td>\n",
       "      <td>1863</td>\n",
       "      <td>22693</td>\n",
       "      <td>5625</td>\n",
       "      <td>965</td>\n",
       "      <td>9</td>\n",
       "      <td>-999</td>\n",
       "      <td>3</td>\n",
       "      <td>...</td>\n",
       "      <td>0.225166</td>\n",
       "      <td>0.059940</td>\n",
       "      <td>0.252794</td>\n",
       "      <td>0.080405</td>\n",
       "      <td>0.944501</td>\n",
       "      <td>0.021806</td>\n",
       "      <td>-999.0</td>\n",
       "      <td>-999.0</td>\n",
       "      <td>0.352941</td>\n",
       "      <td>0.113971</td>\n",
       "    </tr>\n",
       "  </tbody>\n",
       "</table>\n",
       "<p>5 rows × 69 columns</p>\n",
       "</div>"
      ],
      "text/plain": [
       "   id  var1  var2  var3   var4  var5  var6  var7  var8  var9  ...     var59  \\\n",
       "0   0     5   126  1353  28956   743  1289    27  -999     1  ...  0.201839   \n",
       "1   2     6   126  1446   7803  5151   935    35  -999     3  ...  0.072127   \n",
       "2   4     5    44   243   4325  1109  1903    33    24     1  ...  0.324770   \n",
       "3   7     4    53   419    743  7750   183    35  -999     3  ...  0.131070   \n",
       "4  15     4   126  1863  22693  5625   965     9  -999     3  ...  0.225166   \n",
       "\n",
       "        var60     var61     var62     var63     var64  var65  var66     var67  \\\n",
       "0    0.353965  0.166641  0.049108  0.986882  0.016683 -999.0 -999.0  0.176471   \n",
       "1    0.074555  0.217009  0.144403  0.892028  0.038323 -999.0 -999.0  0.147059   \n",
       "2    0.384992  0.330680  0.072864  0.930373  0.021052 -999.0 -999.0  0.294118   \n",
       "3 -999.000000  0.244936  0.158088  0.986882  0.022649 -999.0 -999.0  0.294118   \n",
       "4    0.059940  0.252794  0.080405  0.944501  0.021806 -999.0 -999.0  0.352941   \n",
       "\n",
       "      var68  \n",
       "0  0.253676  \n",
       "1  0.099265  \n",
       "2  0.136029  \n",
       "3  0.220588  \n",
       "4  0.113971  \n",
       "\n",
       "[5 rows x 69 columns]"
      ]
     },
     "execution_count": 42,
     "metadata": {},
     "output_type": "execute_result"
    }
   ],
   "source": [
    "X_test.head()"
   ]
  },
  {
   "cell_type": "code",
   "execution_count": 43,
   "metadata": {},
   "outputs": [
    {
     "data": {
      "text/plain": [
       "(21183, 69)"
      ]
     },
     "execution_count": 43,
     "metadata": {},
     "output_type": "execute_result"
    }
   ],
   "source": [
    "X_test.shape"
   ]
  },
  {
   "cell_type": "code",
   "execution_count": 44,
   "metadata": {},
   "outputs": [],
   "source": [
    "# Deletar a coluna id\n",
    "X_test.drop(['id'], axis=1, inplace=True)"
   ]
  },
  {
   "cell_type": "code",
   "execution_count": 45,
   "metadata": {},
   "outputs": [],
   "source": [
    "# Realizar a predição\n",
    "y_pred = clf.predict(X_test)"
   ]
  },
  {
   "cell_type": "code",
   "execution_count": 46,
   "metadata": {},
   "outputs": [
    {
     "data": {
      "text/plain": [
       "array([1, 1, 0, ..., 1, 0, 1], dtype=int64)"
      ]
     },
     "execution_count": 46,
     "metadata": {},
     "output_type": "execute_result"
    }
   ],
   "source": [
    "y_pred"
   ]
  },
  {
   "cell_type": "markdown",
   "metadata": {},
   "source": [
    "## Criar arquivo para submissão"
   ]
  },
  {
   "cell_type": "code",
   "execution_count": 47,
   "metadata": {},
   "outputs": [
    {
     "data": {
      "text/html": [
       "<div>\n",
       "<style scoped>\n",
       "    .dataframe tbody tr th:only-of-type {\n",
       "        vertical-align: middle;\n",
       "    }\n",
       "\n",
       "    .dataframe tbody tr th {\n",
       "        vertical-align: top;\n",
       "    }\n",
       "\n",
       "    .dataframe thead th {\n",
       "        text-align: right;\n",
       "    }\n",
       "</style>\n",
       "<table border=\"1\" class=\"dataframe\">\n",
       "  <thead>\n",
       "    <tr style=\"text-align: right;\">\n",
       "      <th></th>\n",
       "      <th>id</th>\n",
       "      <th>predicted</th>\n",
       "    </tr>\n",
       "  </thead>\n",
       "  <tbody>\n",
       "    <tr>\n",
       "      <th>0</th>\n",
       "      <td>0</td>\n",
       "      <td>1</td>\n",
       "    </tr>\n",
       "    <tr>\n",
       "      <th>1</th>\n",
       "      <td>2</td>\n",
       "      <td>1</td>\n",
       "    </tr>\n",
       "    <tr>\n",
       "      <th>2</th>\n",
       "      <td>4</td>\n",
       "      <td>1</td>\n",
       "    </tr>\n",
       "    <tr>\n",
       "      <th>3</th>\n",
       "      <td>7</td>\n",
       "      <td>0</td>\n",
       "    </tr>\n",
       "    <tr>\n",
       "      <th>4</th>\n",
       "      <td>15</td>\n",
       "      <td>1</td>\n",
       "    </tr>\n",
       "  </tbody>\n",
       "</table>\n",
       "</div>"
      ],
      "text/plain": [
       "   id  predicted\n",
       "0   0          1\n",
       "1   2          1\n",
       "2   4          1\n",
       "3   7          0\n",
       "4  15          1"
      ]
     },
     "execution_count": 47,
     "metadata": {},
     "output_type": "execute_result"
    }
   ],
   "source": [
    "df_submission = pd.read_csv('../input/submission_sample.csv', sep=',')\n",
    "df_submission.head()"
   ]
  },
  {
   "cell_type": "code",
   "execution_count": 48,
   "metadata": {},
   "outputs": [
    {
     "data": {
      "text/html": [
       "<div>\n",
       "<style scoped>\n",
       "    .dataframe tbody tr th:only-of-type {\n",
       "        vertical-align: middle;\n",
       "    }\n",
       "\n",
       "    .dataframe tbody tr th {\n",
       "        vertical-align: top;\n",
       "    }\n",
       "\n",
       "    .dataframe thead th {\n",
       "        text-align: right;\n",
       "    }\n",
       "</style>\n",
       "<table border=\"1\" class=\"dataframe\">\n",
       "  <thead>\n",
       "    <tr style=\"text-align: right;\">\n",
       "      <th></th>\n",
       "      <th>id</th>\n",
       "      <th>predicted</th>\n",
       "    </tr>\n",
       "  </thead>\n",
       "  <tbody>\n",
       "    <tr>\n",
       "      <th>0</th>\n",
       "      <td>0</td>\n",
       "      <td>1</td>\n",
       "    </tr>\n",
       "    <tr>\n",
       "      <th>1</th>\n",
       "      <td>2</td>\n",
       "      <td>1</td>\n",
       "    </tr>\n",
       "    <tr>\n",
       "      <th>2</th>\n",
       "      <td>4</td>\n",
       "      <td>0</td>\n",
       "    </tr>\n",
       "    <tr>\n",
       "      <th>3</th>\n",
       "      <td>7</td>\n",
       "      <td>0</td>\n",
       "    </tr>\n",
       "    <tr>\n",
       "      <th>4</th>\n",
       "      <td>15</td>\n",
       "      <td>0</td>\n",
       "    </tr>\n",
       "  </tbody>\n",
       "</table>\n",
       "</div>"
      ],
      "text/plain": [
       "   id  predicted\n",
       "0   0          1\n",
       "1   2          1\n",
       "2   4          0\n",
       "3   7          0\n",
       "4  15          0"
      ]
     },
     "execution_count": 48,
     "metadata": {},
     "output_type": "execute_result"
    }
   ],
   "source": [
    "df_submission['predicted'] = y_pred\n",
    "df_submission.head()"
   ]
  },
  {
   "cell_type": "code",
   "execution_count": 49,
   "metadata": {},
   "outputs": [],
   "source": [
    "# Salvar o arquivo para submissão\n",
    "df_submission.to_csv('../output/benchmark.csv', index=False, sep=\",\", encoding='utf-8')"
   ]
  }
 ],
 "metadata": {
  "kernelspec": {
   "display_name": "Python 3",
   "language": "python",
   "name": "python3"
  },
  "language_info": {
   "codemirror_mode": {
    "name": "ipython",
    "version": 3
   },
   "file_extension": ".py",
   "mimetype": "text/x-python",
   "name": "python",
   "nbconvert_exporter": "python",
   "pygments_lexer": "ipython3",
   "version": "3.8.6"
  }
 },
 "nbformat": 4,
 "nbformat_minor": 4
}